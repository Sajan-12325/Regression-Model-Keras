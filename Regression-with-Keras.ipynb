{
 "cells": [
  {
   "cell_type": "code",
   "execution_count": 54,
   "metadata": {},
   "outputs": [],
   "source": [
    "import pandas as pd\n",
    "import numpy as np\n",
    "import keras\n",
    "\n",
    "import warnings\n",
    "warnings.filterwarnings('ignore')"
   ]
  },
  {
   "cell_type": "markdown",
   "metadata": {},
   "source": [
    "Let's download the data and read it into a <em>pandas</em> dataframe.\n"
   ]
  },
  {
   "cell_type": "code",
   "execution_count": 55,
   "metadata": {},
   "outputs": [
    {
     "data": {
      "text/html": [
       "<div>\n",
       "<style scoped>\n",
       "    .dataframe tbody tr th:only-of-type {\n",
       "        vertical-align: middle;\n",
       "    }\n",
       "\n",
       "    .dataframe tbody tr th {\n",
       "        vertical-align: top;\n",
       "    }\n",
       "\n",
       "    .dataframe thead th {\n",
       "        text-align: right;\n",
       "    }\n",
       "</style>\n",
       "<table border=\"1\" class=\"dataframe\">\n",
       "  <thead>\n",
       "    <tr style=\"text-align: right;\">\n",
       "      <th></th>\n",
       "      <th>Cement</th>\n",
       "      <th>Blast Furnace Slag</th>\n",
       "      <th>Fly Ash</th>\n",
       "      <th>Water</th>\n",
       "      <th>Superplasticizer</th>\n",
       "      <th>Coarse Aggregate</th>\n",
       "      <th>Fine Aggregate</th>\n",
       "      <th>Age</th>\n",
       "      <th>Strength</th>\n",
       "    </tr>\n",
       "  </thead>\n",
       "  <tbody>\n",
       "    <tr>\n",
       "      <th>0</th>\n",
       "      <td>540.0</td>\n",
       "      <td>0.0</td>\n",
       "      <td>0.0</td>\n",
       "      <td>162.0</td>\n",
       "      <td>2.5</td>\n",
       "      <td>1040.0</td>\n",
       "      <td>676.0</td>\n",
       "      <td>28</td>\n",
       "      <td>79.99</td>\n",
       "    </tr>\n",
       "    <tr>\n",
       "      <th>1</th>\n",
       "      <td>540.0</td>\n",
       "      <td>0.0</td>\n",
       "      <td>0.0</td>\n",
       "      <td>162.0</td>\n",
       "      <td>2.5</td>\n",
       "      <td>1055.0</td>\n",
       "      <td>676.0</td>\n",
       "      <td>28</td>\n",
       "      <td>61.89</td>\n",
       "    </tr>\n",
       "    <tr>\n",
       "      <th>2</th>\n",
       "      <td>332.5</td>\n",
       "      <td>142.5</td>\n",
       "      <td>0.0</td>\n",
       "      <td>228.0</td>\n",
       "      <td>0.0</td>\n",
       "      <td>932.0</td>\n",
       "      <td>594.0</td>\n",
       "      <td>270</td>\n",
       "      <td>40.27</td>\n",
       "    </tr>\n",
       "    <tr>\n",
       "      <th>3</th>\n",
       "      <td>332.5</td>\n",
       "      <td>142.5</td>\n",
       "      <td>0.0</td>\n",
       "      <td>228.0</td>\n",
       "      <td>0.0</td>\n",
       "      <td>932.0</td>\n",
       "      <td>594.0</td>\n",
       "      <td>365</td>\n",
       "      <td>41.05</td>\n",
       "    </tr>\n",
       "    <tr>\n",
       "      <th>4</th>\n",
       "      <td>198.6</td>\n",
       "      <td>132.4</td>\n",
       "      <td>0.0</td>\n",
       "      <td>192.0</td>\n",
       "      <td>0.0</td>\n",
       "      <td>978.4</td>\n",
       "      <td>825.5</td>\n",
       "      <td>360</td>\n",
       "      <td>44.30</td>\n",
       "    </tr>\n",
       "  </tbody>\n",
       "</table>\n",
       "</div>"
      ],
      "text/plain": [
       "   Cement  Blast Furnace Slag  Fly Ash  Water  Superplasticizer  \\\n",
       "0   540.0                 0.0      0.0  162.0               2.5   \n",
       "1   540.0                 0.0      0.0  162.0               2.5   \n",
       "2   332.5               142.5      0.0  228.0               0.0   \n",
       "3   332.5               142.5      0.0  228.0               0.0   \n",
       "4   198.6               132.4      0.0  192.0               0.0   \n",
       "\n",
       "   Coarse Aggregate  Fine Aggregate  Age  Strength  \n",
       "0            1040.0           676.0   28     79.99  \n",
       "1            1055.0           676.0   28     61.89  \n",
       "2             932.0           594.0  270     40.27  \n",
       "3             932.0           594.0  365     41.05  \n",
       "4             978.4           825.5  360     44.30  "
      ]
     },
     "execution_count": 55,
     "metadata": {},
     "output_type": "execute_result"
    }
   ],
   "source": [
    "filepath='https://s3-api.us-geo.objectstorage.softlayer.net/cf-courses-data/CognitiveClass/DL0101EN/labs/data/concrete_data.csv'\n",
    "df_data = pd.read_csv(filepath)\n",
    "\n",
    "df_data.head()"
   ]
  },
  {
   "cell_type": "code",
   "execution_count": 56,
   "metadata": {},
   "outputs": [
    {
     "data": {
      "text/plain": [
       "(1030, 9)"
      ]
     },
     "execution_count": 56,
     "metadata": {},
     "output_type": "execute_result"
    }
   ],
   "source": [
    "df_data.shape"
   ]
  },
  {
   "cell_type": "code",
   "execution_count": null,
   "metadata": {},
   "outputs": [],
   "source": []
  },
  {
   "cell_type": "code",
   "execution_count": 57,
   "metadata": {},
   "outputs": [
    {
     "data": {
      "text/plain": [
       "Cement                0\n",
       "Blast Furnace Slag    0\n",
       "Fly Ash               0\n",
       "Water                 0\n",
       "Superplasticizer      0\n",
       "Coarse Aggregate      0\n",
       "Fine Aggregate        0\n",
       "Age                   0\n",
       "Strength              0\n",
       "dtype: int64"
      ]
     },
     "execution_count": 57,
     "metadata": {},
     "output_type": "execute_result"
    }
   ],
   "source": [
    "df_data.isnull().sum()"
   ]
  },
  {
   "cell_type": "code",
   "execution_count": 58,
   "metadata": {},
   "outputs": [],
   "source": [
    "## No null values are present"
   ]
  },
  {
   "cell_type": "markdown",
   "metadata": {},
   "source": [
    "So, there are approximately 1000 samples to train our model on. Because of the few samples, we have to be careful not to overfit the training data.\n"
   ]
  },
  {
   "cell_type": "code",
   "execution_count": 59,
   "metadata": {},
   "outputs": [
    {
     "data": {
      "text/html": [
       "<div>\n",
       "<style scoped>\n",
       "    .dataframe tbody tr th:only-of-type {\n",
       "        vertical-align: middle;\n",
       "    }\n",
       "\n",
       "    .dataframe tbody tr th {\n",
       "        vertical-align: top;\n",
       "    }\n",
       "\n",
       "    .dataframe thead th {\n",
       "        text-align: right;\n",
       "    }\n",
       "</style>\n",
       "<table border=\"1\" class=\"dataframe\">\n",
       "  <thead>\n",
       "    <tr style=\"text-align: right;\">\n",
       "      <th></th>\n",
       "      <th>Cement</th>\n",
       "      <th>Blast Furnace Slag</th>\n",
       "      <th>Fly Ash</th>\n",
       "      <th>Water</th>\n",
       "      <th>Superplasticizer</th>\n",
       "      <th>Coarse Aggregate</th>\n",
       "      <th>Fine Aggregate</th>\n",
       "      <th>Age</th>\n",
       "      <th>Strength</th>\n",
       "    </tr>\n",
       "  </thead>\n",
       "  <tbody>\n",
       "    <tr>\n",
       "      <th>count</th>\n",
       "      <td>1030.000000</td>\n",
       "      <td>1030.000000</td>\n",
       "      <td>1030.000000</td>\n",
       "      <td>1030.000000</td>\n",
       "      <td>1030.000000</td>\n",
       "      <td>1030.000000</td>\n",
       "      <td>1030.000000</td>\n",
       "      <td>1030.000000</td>\n",
       "      <td>1030.000000</td>\n",
       "    </tr>\n",
       "    <tr>\n",
       "      <th>mean</th>\n",
       "      <td>281.167864</td>\n",
       "      <td>73.895825</td>\n",
       "      <td>54.188350</td>\n",
       "      <td>181.567282</td>\n",
       "      <td>6.204660</td>\n",
       "      <td>972.918932</td>\n",
       "      <td>773.580485</td>\n",
       "      <td>45.662136</td>\n",
       "      <td>35.817961</td>\n",
       "    </tr>\n",
       "    <tr>\n",
       "      <th>std</th>\n",
       "      <td>104.506364</td>\n",
       "      <td>86.279342</td>\n",
       "      <td>63.997004</td>\n",
       "      <td>21.354219</td>\n",
       "      <td>5.973841</td>\n",
       "      <td>77.753954</td>\n",
       "      <td>80.175980</td>\n",
       "      <td>63.169912</td>\n",
       "      <td>16.705742</td>\n",
       "    </tr>\n",
       "    <tr>\n",
       "      <th>min</th>\n",
       "      <td>102.000000</td>\n",
       "      <td>0.000000</td>\n",
       "      <td>0.000000</td>\n",
       "      <td>121.800000</td>\n",
       "      <td>0.000000</td>\n",
       "      <td>801.000000</td>\n",
       "      <td>594.000000</td>\n",
       "      <td>1.000000</td>\n",
       "      <td>2.330000</td>\n",
       "    </tr>\n",
       "    <tr>\n",
       "      <th>25%</th>\n",
       "      <td>192.375000</td>\n",
       "      <td>0.000000</td>\n",
       "      <td>0.000000</td>\n",
       "      <td>164.900000</td>\n",
       "      <td>0.000000</td>\n",
       "      <td>932.000000</td>\n",
       "      <td>730.950000</td>\n",
       "      <td>7.000000</td>\n",
       "      <td>23.710000</td>\n",
       "    </tr>\n",
       "    <tr>\n",
       "      <th>50%</th>\n",
       "      <td>272.900000</td>\n",
       "      <td>22.000000</td>\n",
       "      <td>0.000000</td>\n",
       "      <td>185.000000</td>\n",
       "      <td>6.400000</td>\n",
       "      <td>968.000000</td>\n",
       "      <td>779.500000</td>\n",
       "      <td>28.000000</td>\n",
       "      <td>34.445000</td>\n",
       "    </tr>\n",
       "    <tr>\n",
       "      <th>75%</th>\n",
       "      <td>350.000000</td>\n",
       "      <td>142.950000</td>\n",
       "      <td>118.300000</td>\n",
       "      <td>192.000000</td>\n",
       "      <td>10.200000</td>\n",
       "      <td>1029.400000</td>\n",
       "      <td>824.000000</td>\n",
       "      <td>56.000000</td>\n",
       "      <td>46.135000</td>\n",
       "    </tr>\n",
       "    <tr>\n",
       "      <th>max</th>\n",
       "      <td>540.000000</td>\n",
       "      <td>359.400000</td>\n",
       "      <td>200.100000</td>\n",
       "      <td>247.000000</td>\n",
       "      <td>32.200000</td>\n",
       "      <td>1145.000000</td>\n",
       "      <td>992.600000</td>\n",
       "      <td>365.000000</td>\n",
       "      <td>82.600000</td>\n",
       "    </tr>\n",
       "  </tbody>\n",
       "</table>\n",
       "</div>"
      ],
      "text/plain": [
       "            Cement  Blast Furnace Slag      Fly Ash        Water  \\\n",
       "count  1030.000000         1030.000000  1030.000000  1030.000000   \n",
       "mean    281.167864           73.895825    54.188350   181.567282   \n",
       "std     104.506364           86.279342    63.997004    21.354219   \n",
       "min     102.000000            0.000000     0.000000   121.800000   \n",
       "25%     192.375000            0.000000     0.000000   164.900000   \n",
       "50%     272.900000           22.000000     0.000000   185.000000   \n",
       "75%     350.000000          142.950000   118.300000   192.000000   \n",
       "max     540.000000          359.400000   200.100000   247.000000   \n",
       "\n",
       "       Superplasticizer  Coarse Aggregate  Fine Aggregate          Age  \\\n",
       "count       1030.000000       1030.000000     1030.000000  1030.000000   \n",
       "mean           6.204660        972.918932      773.580485    45.662136   \n",
       "std            5.973841         77.753954       80.175980    63.169912   \n",
       "min            0.000000        801.000000      594.000000     1.000000   \n",
       "25%            0.000000        932.000000      730.950000     7.000000   \n",
       "50%            6.400000        968.000000      779.500000    28.000000   \n",
       "75%           10.200000       1029.400000      824.000000    56.000000   \n",
       "max           32.200000       1145.000000      992.600000   365.000000   \n",
       "\n",
       "          Strength  \n",
       "count  1030.000000  \n",
       "mean     35.817961  \n",
       "std      16.705742  \n",
       "min       2.330000  \n",
       "25%      23.710000  \n",
       "50%      34.445000  \n",
       "75%      46.135000  \n",
       "max      82.600000  "
      ]
     },
     "execution_count": 59,
     "metadata": {},
     "output_type": "execute_result"
    }
   ],
   "source": [
    "df_data.describe()"
   ]
  },
  {
   "cell_type": "code",
   "execution_count": null,
   "metadata": {},
   "outputs": [],
   "source": []
  },
  {
   "cell_type": "markdown",
   "metadata": {},
   "source": [
    "The data looks very clean and is ready to be used to build our model.\n"
   ]
  },
  {
   "cell_type": "markdown",
   "metadata": {},
   "source": [
    "#### Split data into predictors and target\n"
   ]
  },
  {
   "cell_type": "markdown",
   "metadata": {},
   "source": [
    "The target variable in this problem is the concrete sample strength. Therefore, our predictors will be all the other columns.\n"
   ]
  },
  {
   "cell_type": "code",
   "execution_count": 78,
   "metadata": {},
   "outputs": [],
   "source": [
    "df_columns = df_data.columns"
   ]
  },
  {
   "cell_type": "code",
   "execution_count": 79,
   "metadata": {},
   "outputs": [],
   "source": [
    "X = df_data[df_columns[df_columns != 'Strength']] # all columns except Strength\n",
    "y = df_data['Strength'] # Strength column"
   ]
  },
  {
   "cell_type": "markdown",
   "metadata": {},
   "source": [
    "<a id=\"item2\"></a>\n"
   ]
  },
  {
   "cell_type": "markdown",
   "metadata": {},
   "source": [
    "Let's do a quick sanity check of the predictors and the target dataframes.\n"
   ]
  },
  {
   "cell_type": "code",
   "execution_count": 80,
   "metadata": {},
   "outputs": [
    {
     "data": {
      "text/html": [
       "<div>\n",
       "<style scoped>\n",
       "    .dataframe tbody tr th:only-of-type {\n",
       "        vertical-align: middle;\n",
       "    }\n",
       "\n",
       "    .dataframe tbody tr th {\n",
       "        vertical-align: top;\n",
       "    }\n",
       "\n",
       "    .dataframe thead th {\n",
       "        text-align: right;\n",
       "    }\n",
       "</style>\n",
       "<table border=\"1\" class=\"dataframe\">\n",
       "  <thead>\n",
       "    <tr style=\"text-align: right;\">\n",
       "      <th></th>\n",
       "      <th>Cement</th>\n",
       "      <th>Blast Furnace Slag</th>\n",
       "      <th>Fly Ash</th>\n",
       "      <th>Water</th>\n",
       "      <th>Superplasticizer</th>\n",
       "      <th>Coarse Aggregate</th>\n",
       "      <th>Fine Aggregate</th>\n",
       "      <th>Age</th>\n",
       "    </tr>\n",
       "  </thead>\n",
       "  <tbody>\n",
       "    <tr>\n",
       "      <th>0</th>\n",
       "      <td>540.0</td>\n",
       "      <td>0.0</td>\n",
       "      <td>0.0</td>\n",
       "      <td>162.0</td>\n",
       "      <td>2.5</td>\n",
       "      <td>1040.0</td>\n",
       "      <td>676.0</td>\n",
       "      <td>28</td>\n",
       "    </tr>\n",
       "    <tr>\n",
       "      <th>1</th>\n",
       "      <td>540.0</td>\n",
       "      <td>0.0</td>\n",
       "      <td>0.0</td>\n",
       "      <td>162.0</td>\n",
       "      <td>2.5</td>\n",
       "      <td>1055.0</td>\n",
       "      <td>676.0</td>\n",
       "      <td>28</td>\n",
       "    </tr>\n",
       "    <tr>\n",
       "      <th>2</th>\n",
       "      <td>332.5</td>\n",
       "      <td>142.5</td>\n",
       "      <td>0.0</td>\n",
       "      <td>228.0</td>\n",
       "      <td>0.0</td>\n",
       "      <td>932.0</td>\n",
       "      <td>594.0</td>\n",
       "      <td>270</td>\n",
       "    </tr>\n",
       "    <tr>\n",
       "      <th>3</th>\n",
       "      <td>332.5</td>\n",
       "      <td>142.5</td>\n",
       "      <td>0.0</td>\n",
       "      <td>228.0</td>\n",
       "      <td>0.0</td>\n",
       "      <td>932.0</td>\n",
       "      <td>594.0</td>\n",
       "      <td>365</td>\n",
       "    </tr>\n",
       "    <tr>\n",
       "      <th>4</th>\n",
       "      <td>198.6</td>\n",
       "      <td>132.4</td>\n",
       "      <td>0.0</td>\n",
       "      <td>192.0</td>\n",
       "      <td>0.0</td>\n",
       "      <td>978.4</td>\n",
       "      <td>825.5</td>\n",
       "      <td>360</td>\n",
       "    </tr>\n",
       "  </tbody>\n",
       "</table>\n",
       "</div>"
      ],
      "text/plain": [
       "   Cement  Blast Furnace Slag  Fly Ash  Water  Superplasticizer  \\\n",
       "0   540.0                 0.0      0.0  162.0               2.5   \n",
       "1   540.0                 0.0      0.0  162.0               2.5   \n",
       "2   332.5               142.5      0.0  228.0               0.0   \n",
       "3   332.5               142.5      0.0  228.0               0.0   \n",
       "4   198.6               132.4      0.0  192.0               0.0   \n",
       "\n",
       "   Coarse Aggregate  Fine Aggregate  Age  \n",
       "0            1040.0           676.0   28  \n",
       "1            1055.0           676.0   28  \n",
       "2             932.0           594.0  270  \n",
       "3             932.0           594.0  365  \n",
       "4             978.4           825.5  360  "
      ]
     },
     "execution_count": 80,
     "metadata": {},
     "output_type": "execute_result"
    }
   ],
   "source": [
    "X.head()"
   ]
  },
  {
   "cell_type": "code",
   "execution_count": 81,
   "metadata": {},
   "outputs": [
    {
     "data": {
      "text/plain": [
       "0    79.99\n",
       "1    61.89\n",
       "2    40.27\n",
       "3    41.05\n",
       "4    44.30\n",
       "Name: Strength, dtype: float64"
      ]
     },
     "execution_count": 81,
     "metadata": {},
     "output_type": "execute_result"
    }
   ],
   "source": [
    "y.head()"
   ]
  },
  {
   "cell_type": "markdown",
   "metadata": {},
   "source": [
    " normalizing the data by substracting the mean and dividing by the standard deviation.\n"
   ]
  },
  {
   "cell_type": "code",
   "execution_count": 82,
   "metadata": {},
   "outputs": [
    {
     "data": {
      "text/html": [
       "<div>\n",
       "<style scoped>\n",
       "    .dataframe tbody tr th:only-of-type {\n",
       "        vertical-align: middle;\n",
       "    }\n",
       "\n",
       "    .dataframe tbody tr th {\n",
       "        vertical-align: top;\n",
       "    }\n",
       "\n",
       "    .dataframe thead th {\n",
       "        text-align: right;\n",
       "    }\n",
       "</style>\n",
       "<table border=\"1\" class=\"dataframe\">\n",
       "  <thead>\n",
       "    <tr style=\"text-align: right;\">\n",
       "      <th></th>\n",
       "      <th>Cement</th>\n",
       "      <th>Blast Furnace Slag</th>\n",
       "      <th>Fly Ash</th>\n",
       "      <th>Water</th>\n",
       "      <th>Superplasticizer</th>\n",
       "      <th>Coarse Aggregate</th>\n",
       "      <th>Fine Aggregate</th>\n",
       "      <th>Age</th>\n",
       "    </tr>\n",
       "  </thead>\n",
       "  <tbody>\n",
       "    <tr>\n",
       "      <th>0</th>\n",
       "      <td>2.476712</td>\n",
       "      <td>-0.856472</td>\n",
       "      <td>-0.846733</td>\n",
       "      <td>-0.916319</td>\n",
       "      <td>-0.620147</td>\n",
       "      <td>0.862735</td>\n",
       "      <td>-1.217079</td>\n",
       "      <td>-0.279597</td>\n",
       "    </tr>\n",
       "    <tr>\n",
       "      <th>1</th>\n",
       "      <td>2.476712</td>\n",
       "      <td>-0.856472</td>\n",
       "      <td>-0.846733</td>\n",
       "      <td>-0.916319</td>\n",
       "      <td>-0.620147</td>\n",
       "      <td>1.055651</td>\n",
       "      <td>-1.217079</td>\n",
       "      <td>-0.279597</td>\n",
       "    </tr>\n",
       "    <tr>\n",
       "      <th>2</th>\n",
       "      <td>0.491187</td>\n",
       "      <td>0.795140</td>\n",
       "      <td>-0.846733</td>\n",
       "      <td>2.174405</td>\n",
       "      <td>-1.038638</td>\n",
       "      <td>-0.526262</td>\n",
       "      <td>-2.239829</td>\n",
       "      <td>3.551340</td>\n",
       "    </tr>\n",
       "    <tr>\n",
       "      <th>3</th>\n",
       "      <td>0.491187</td>\n",
       "      <td>0.795140</td>\n",
       "      <td>-0.846733</td>\n",
       "      <td>2.174405</td>\n",
       "      <td>-1.038638</td>\n",
       "      <td>-0.526262</td>\n",
       "      <td>-2.239829</td>\n",
       "      <td>5.055221</td>\n",
       "    </tr>\n",
       "    <tr>\n",
       "      <th>4</th>\n",
       "      <td>-0.790075</td>\n",
       "      <td>0.678079</td>\n",
       "      <td>-0.846733</td>\n",
       "      <td>0.488555</td>\n",
       "      <td>-1.038638</td>\n",
       "      <td>0.070492</td>\n",
       "      <td>0.647569</td>\n",
       "      <td>4.976069</td>\n",
       "    </tr>\n",
       "  </tbody>\n",
       "</table>\n",
       "</div>"
      ],
      "text/plain": [
       "     Cement  Blast Furnace Slag   Fly Ash     Water  Superplasticizer  \\\n",
       "0  2.476712           -0.856472 -0.846733 -0.916319         -0.620147   \n",
       "1  2.476712           -0.856472 -0.846733 -0.916319         -0.620147   \n",
       "2  0.491187            0.795140 -0.846733  2.174405         -1.038638   \n",
       "3  0.491187            0.795140 -0.846733  2.174405         -1.038638   \n",
       "4 -0.790075            0.678079 -0.846733  0.488555         -1.038638   \n",
       "\n",
       "   Coarse Aggregate  Fine Aggregate       Age  \n",
       "0          0.862735       -1.217079 -0.279597  \n",
       "1          1.055651       -1.217079 -0.279597  \n",
       "2         -0.526262       -2.239829  3.551340  \n",
       "3         -0.526262       -2.239829  5.055221  \n",
       "4          0.070492        0.647569  4.976069  "
      ]
     },
     "execution_count": 82,
     "metadata": {},
     "output_type": "execute_result"
    }
   ],
   "source": [
    "X_std = (X - X.mean()) / X.std()\n",
    "X_std.head()\n"
   ]
  },
  {
   "cell_type": "code",
   "execution_count": 83,
   "metadata": {},
   "outputs": [
    {
     "data": {
      "text/plain": [
       "8"
      ]
     },
     "execution_count": 83,
     "metadata": {},
     "output_type": "execute_result"
    }
   ],
   "source": [
    "\n",
    "n_cols = X_std.shape[1] # number of predictors\n",
    "n_cols"
   ]
  },
  {
   "cell_type": "markdown",
   "metadata": {},
   "source": [
    "<a id=\"item1\"></a>\n"
   ]
  },
  {
   "cell_type": "markdown",
   "metadata": {},
   "source": [
    "<a id='item32'></a>\n"
   ]
  },
  {
   "cell_type": "markdown",
   "metadata": {},
   "source": [
    "##  Import Keras Packages\n",
    "\n"
   ]
  },
  {
   "cell_type": "code",
   "execution_count": 84,
   "metadata": {},
   "outputs": [],
   "source": [
    "from keras.models import Sequential\n",
    "from keras.layers import Dense\n",
    "from keras.layers import Input\n",
    "from sklearn.model_selection import train_test_split"
   ]
  },
  {
   "cell_type": "markdown",
   "metadata": {},
   "source": [
    "<a id='item33'></a>\n"
   ]
  },
  {
   "cell_type": "markdown",
   "metadata": {},
   "source": [
    "##### Building aneural network pattern"
   ]
  },
  {
   "cell_type": "code",
   "execution_count": 85,
   "metadata": {},
   "outputs": [],
   "source": [
    "\n",
    "# define regression model\n",
    "def regression_model():\n",
    "    # create model\n",
    "    model = Sequential()\n",
    "    model.add(Input(shape=(n_cols,)))\n",
    "    model.add(Dense(20, activation='relu'))\n",
    "    model.add(Dense(20, activation='relu'))\n",
    "    model.add(Dense(1))\n",
    "    \n",
    "    # compile model\n",
    "    model.compile(optimizer='adam', loss='mean_squared_error')\n",
    "    return model"
   ]
  },
  {
   "cell_type": "markdown",
   "metadata": {},
   "source": [
    "<a id=\"item4\"></a>\n"
   ]
  },
  {
   "cell_type": "markdown",
   "metadata": {},
   "source": [
    "#### Train and Test the Network\n"
   ]
  },
  {
   "cell_type": "code",
   "execution_count": 86,
   "metadata": {},
   "outputs": [],
   "source": [
    "\n",
    "# build the model\n",
    "model = regression_model()"
   ]
  },
  {
   "cell_type": "markdown",
   "metadata": {},
   "source": [
    "Next, we will train and test the model at the same time using the *fit* method. We will leave out 30% of the data for validation and we will train the model for 100 epochs.\n"
   ]
  },
  {
   "cell_type": "code",
   "execution_count": 87,
   "metadata": {},
   "outputs": [],
   "source": [
    "# fit the model\n",
    "### Splitting into train and test data\n",
    "X_train, X_test, y_train, y_test = train_test_split(X_std, y, test_size=0.3, random_state=42)\n",
    "\n",
    "## Splitting the training data into train and validation sets\n",
    "X_train, X_val, y_train, y_val = train_test_split(X_train, y_train, test_size = 0.2, random_state=42)\n",
    "\n",
    "\n"
   ]
  },
  {
   "cell_type": "code",
   "execution_count": 88,
   "metadata": {},
   "outputs": [
    {
     "name": "stdout",
     "output_type": "stream",
     "text": [
      "Epoch 1/100\n",
      "18/18 - 2s - 99ms/step - loss: 1582.7188 - val_loss: 1574.7981\n",
      "Epoch 2/100\n",
      "18/18 - 0s - 13ms/step - loss: 1557.2666 - val_loss: 1547.3390\n",
      "Epoch 3/100\n",
      "18/18 - 0s - 12ms/step - loss: 1524.1846 - val_loss: 1507.8446\n",
      "Epoch 4/100\n",
      "18/18 - 0s - 13ms/step - loss: 1477.2673 - val_loss: 1452.0286\n",
      "Epoch 5/100\n",
      "18/18 - 0s - 13ms/step - loss: 1412.0493 - val_loss: 1378.0552\n",
      "Epoch 6/100\n",
      "18/18 - 0s - 12ms/step - loss: 1328.3962 - val_loss: 1283.1512\n",
      "Epoch 7/100\n",
      "18/18 - 0s - 12ms/step - loss: 1223.4703 - val_loss: 1167.8536\n",
      "Epoch 8/100\n",
      "18/18 - 0s - 13ms/step - loss: 1095.0060 - val_loss: 1032.8444\n",
      "Epoch 9/100\n",
      "18/18 - 0s - 12ms/step - loss: 948.7768 - val_loss: 878.7350\n",
      "Epoch 10/100\n",
      "18/18 - 0s - 13ms/step - loss: 788.4917 - val_loss: 716.7923\n",
      "Epoch 11/100\n",
      "18/18 - 0s - 13ms/step - loss: 629.9517 - val_loss: 565.3676\n",
      "Epoch 12/100\n",
      "18/18 - 0s - 12ms/step - loss: 494.1459 - val_loss: 436.4882\n",
      "Epoch 13/100\n",
      "18/18 - 0s - 13ms/step - loss: 384.3525 - val_loss: 348.6535\n",
      "Epoch 14/100\n",
      "18/18 - 0s - 13ms/step - loss: 316.4219 - val_loss: 292.1655\n",
      "Epoch 15/100\n",
      "18/18 - 0s - 13ms/step - loss: 275.0019 - val_loss: 261.0952\n",
      "Epoch 16/100\n",
      "18/18 - 0s - 12ms/step - loss: 251.7416 - val_loss: 243.6314\n",
      "Epoch 17/100\n",
      "18/18 - 0s - 12ms/step - loss: 237.4313 - val_loss: 232.9874\n",
      "Epoch 18/100\n",
      "18/18 - 0s - 12ms/step - loss: 227.3060 - val_loss: 224.4623\n",
      "Epoch 19/100\n",
      "18/18 - 0s - 12ms/step - loss: 218.2488 - val_loss: 218.0035\n",
      "Epoch 20/100\n",
      "18/18 - 0s - 11ms/step - loss: 211.0857 - val_loss: 211.9669\n",
      "Epoch 21/100\n",
      "18/18 - 0s - 12ms/step - loss: 204.9650 - val_loss: 207.5569\n",
      "Epoch 22/100\n",
      "18/18 - 0s - 12ms/step - loss: 199.1068 - val_loss: 203.3700\n",
      "Epoch 23/100\n",
      "18/18 - 0s - 13ms/step - loss: 194.2516 - val_loss: 200.0632\n",
      "Epoch 24/100\n",
      "18/18 - 0s - 12ms/step - loss: 189.1357 - val_loss: 195.7365\n",
      "Epoch 25/100\n",
      "18/18 - 0s - 12ms/step - loss: 184.6320 - val_loss: 191.3234\n",
      "Epoch 26/100\n",
      "18/18 - 0s - 13ms/step - loss: 180.6581 - val_loss: 188.9618\n",
      "Epoch 27/100\n",
      "18/18 - 0s - 12ms/step - loss: 176.3707 - val_loss: 186.3429\n",
      "Epoch 28/100\n",
      "18/18 - 0s - 13ms/step - loss: 173.0353 - val_loss: 183.6934\n",
      "Epoch 29/100\n",
      "18/18 - 0s - 12ms/step - loss: 169.5432 - val_loss: 180.7912\n",
      "Epoch 30/100\n",
      "18/18 - 0s - 12ms/step - loss: 166.5413 - val_loss: 179.5372\n",
      "Epoch 31/100\n",
      "18/18 - 0s - 13ms/step - loss: 163.3427 - val_loss: 176.6649\n",
      "Epoch 32/100\n",
      "18/18 - 0s - 13ms/step - loss: 160.6134 - val_loss: 174.3768\n",
      "Epoch 33/100\n",
      "18/18 - 0s - 12ms/step - loss: 158.1717 - val_loss: 172.9343\n",
      "Epoch 34/100\n",
      "18/18 - 0s - 13ms/step - loss: 155.7118 - val_loss: 171.0548\n",
      "Epoch 35/100\n",
      "18/18 - 0s - 12ms/step - loss: 153.4928 - val_loss: 169.5493\n",
      "Epoch 36/100\n",
      "18/18 - 0s - 12ms/step - loss: 151.2327 - val_loss: 166.9745\n",
      "Epoch 37/100\n",
      "18/18 - 0s - 14ms/step - loss: 149.3662 - val_loss: 166.5091\n",
      "Epoch 38/100\n",
      "18/18 - 0s - 12ms/step - loss: 147.3717 - val_loss: 164.5011\n",
      "Epoch 39/100\n",
      "18/18 - 0s - 13ms/step - loss: 145.4569 - val_loss: 162.4303\n",
      "Epoch 40/100\n",
      "18/18 - 0s - 12ms/step - loss: 143.8620 - val_loss: 161.1778\n",
      "Epoch 41/100\n",
      "18/18 - 0s - 12ms/step - loss: 142.3381 - val_loss: 161.3974\n",
      "Epoch 42/100\n",
      "18/18 - 0s - 13ms/step - loss: 140.8529 - val_loss: 158.2937\n",
      "Epoch 43/100\n",
      "18/18 - 0s - 13ms/step - loss: 139.3210 - val_loss: 158.5352\n",
      "Epoch 44/100\n",
      "18/18 - 0s - 13ms/step - loss: 137.7665 - val_loss: 157.2036\n",
      "Epoch 45/100\n",
      "18/18 - 0s - 12ms/step - loss: 136.4048 - val_loss: 155.5631\n",
      "Epoch 46/100\n",
      "18/18 - 0s - 12ms/step - loss: 135.0580 - val_loss: 153.6935\n",
      "Epoch 47/100\n",
      "18/18 - 0s - 14ms/step - loss: 133.7077 - val_loss: 154.1069\n",
      "Epoch 48/100\n",
      "18/18 - 0s - 13ms/step - loss: 132.6314 - val_loss: 152.7314\n",
      "Epoch 49/100\n",
      "18/18 - 0s - 13ms/step - loss: 131.6847 - val_loss: 152.3530\n",
      "Epoch 50/100\n",
      "18/18 - 0s - 13ms/step - loss: 130.8637 - val_loss: 151.2291\n",
      "Epoch 51/100\n",
      "18/18 - 0s - 12ms/step - loss: 129.6986 - val_loss: 149.8660\n",
      "Epoch 52/100\n",
      "18/18 - 0s - 13ms/step - loss: 128.9289 - val_loss: 149.4211\n",
      "Epoch 53/100\n",
      "18/18 - 0s - 12ms/step - loss: 127.8913 - val_loss: 149.1719\n",
      "Epoch 54/100\n",
      "18/18 - 0s - 11ms/step - loss: 127.2283 - val_loss: 148.2165\n",
      "Epoch 55/100\n",
      "18/18 - 0s - 13ms/step - loss: 126.3243 - val_loss: 147.6473\n",
      "Epoch 56/100\n",
      "18/18 - 0s - 12ms/step - loss: 125.3964 - val_loss: 147.1212\n",
      "Epoch 57/100\n",
      "18/18 - 0s - 13ms/step - loss: 124.5074 - val_loss: 146.5062\n",
      "Epoch 58/100\n",
      "18/18 - 0s - 14ms/step - loss: 123.7135 - val_loss: 146.1878\n",
      "Epoch 59/100\n",
      "18/18 - 0s - 14ms/step - loss: 123.0073 - val_loss: 143.9187\n",
      "Epoch 60/100\n",
      "18/18 - 0s - 13ms/step - loss: 122.2551 - val_loss: 144.4005\n",
      "Epoch 61/100\n",
      "18/18 - 0s - 13ms/step - loss: 121.1527 - val_loss: 143.4522\n",
      "Epoch 62/100\n",
      "18/18 - 0s - 13ms/step - loss: 120.7848 - val_loss: 142.8331\n",
      "Epoch 63/100\n",
      "18/18 - 0s - 13ms/step - loss: 119.7530 - val_loss: 141.8736\n",
      "Epoch 64/100\n",
      "18/18 - 0s - 13ms/step - loss: 119.1532 - val_loss: 141.1155\n",
      "Epoch 65/100\n",
      "18/18 - 0s - 12ms/step - loss: 118.3869 - val_loss: 142.1865\n",
      "Epoch 66/100\n",
      "18/18 - 0s - 12ms/step - loss: 117.7106 - val_loss: 139.8239\n",
      "Epoch 67/100\n",
      "18/18 - 0s - 13ms/step - loss: 116.7547 - val_loss: 139.7830\n",
      "Epoch 68/100\n",
      "18/18 - 0s - 14ms/step - loss: 116.4046 - val_loss: 138.9930\n",
      "Epoch 69/100\n",
      "18/18 - 0s - 13ms/step - loss: 115.2979 - val_loss: 139.2567\n",
      "Epoch 70/100\n",
      "18/18 - 0s - 13ms/step - loss: 114.6725 - val_loss: 137.7430\n",
      "Epoch 71/100\n",
      "18/18 - 0s - 13ms/step - loss: 114.2857 - val_loss: 138.6082\n",
      "Epoch 72/100\n",
      "18/18 - 0s - 12ms/step - loss: 113.7482 - val_loss: 135.9616\n",
      "Epoch 73/100\n",
      "18/18 - 0s - 12ms/step - loss: 112.9399 - val_loss: 137.2877\n",
      "Epoch 74/100\n",
      "18/18 - 0s - 12ms/step - loss: 112.2568 - val_loss: 136.1574\n",
      "Epoch 75/100\n",
      "18/18 - 0s - 13ms/step - loss: 111.8645 - val_loss: 136.6024\n",
      "Epoch 76/100\n",
      "18/18 - 0s - 13ms/step - loss: 111.0181 - val_loss: 134.7536\n",
      "Epoch 77/100\n",
      "18/18 - 0s - 12ms/step - loss: 110.2170 - val_loss: 133.9455\n",
      "Epoch 78/100\n",
      "18/18 - 0s - 12ms/step - loss: 109.7948 - val_loss: 134.2683\n",
      "Epoch 79/100\n",
      "18/18 - 0s - 13ms/step - loss: 109.1011 - val_loss: 133.9565\n",
      "Epoch 80/100\n",
      "18/18 - 0s - 12ms/step - loss: 108.4631 - val_loss: 132.7241\n",
      "Epoch 81/100\n",
      "18/18 - 0s - 13ms/step - loss: 107.9312 - val_loss: 132.1457\n",
      "Epoch 82/100\n",
      "18/18 - 0s - 13ms/step - loss: 107.4245 - val_loss: 132.1691\n",
      "Epoch 83/100\n",
      "18/18 - 0s - 12ms/step - loss: 106.7571 - val_loss: 131.3360\n",
      "Epoch 84/100\n",
      "18/18 - 0s - 12ms/step - loss: 106.4314 - val_loss: 130.8787\n",
      "Epoch 85/100\n",
      "18/18 - 0s - 11ms/step - loss: 105.6555 - val_loss: 129.4880\n",
      "Epoch 86/100\n",
      "18/18 - 0s - 12ms/step - loss: 105.2477 - val_loss: 130.3928\n",
      "Epoch 87/100\n",
      "18/18 - 0s - 13ms/step - loss: 104.7206 - val_loss: 128.6812\n",
      "Epoch 88/100\n",
      "18/18 - 0s - 12ms/step - loss: 103.5330 - val_loss: 128.5522\n",
      "Epoch 89/100\n",
      "18/18 - 0s - 11ms/step - loss: 102.8941 - val_loss: 127.7039\n",
      "Epoch 90/100\n",
      "18/18 - 0s - 13ms/step - loss: 102.2594 - val_loss: 126.4112\n",
      "Epoch 91/100\n",
      "18/18 - 0s - 13ms/step - loss: 101.5776 - val_loss: 127.0900\n",
      "Epoch 92/100\n",
      "18/18 - 0s - 12ms/step - loss: 100.9305 - val_loss: 124.9566\n",
      "Epoch 93/100\n",
      "18/18 - 0s - 13ms/step - loss: 100.1994 - val_loss: 125.9722\n",
      "Epoch 94/100\n",
      "18/18 - 0s - 13ms/step - loss: 99.6200 - val_loss: 124.5211\n",
      "Epoch 95/100\n",
      "18/18 - 0s - 12ms/step - loss: 98.7989 - val_loss: 123.6880\n",
      "Epoch 96/100\n",
      "18/18 - 0s - 12ms/step - loss: 98.0186 - val_loss: 122.7866\n",
      "Epoch 97/100\n",
      "18/18 - 0s - 12ms/step - loss: 97.3060 - val_loss: 122.1661\n",
      "Epoch 98/100\n",
      "18/18 - 0s - 12ms/step - loss: 96.5990 - val_loss: 121.0238\n",
      "Epoch 99/100\n",
      "18/18 - 0s - 12ms/step - loss: 95.6292 - val_loss: 121.0886\n",
      "Epoch 100/100\n",
      "18/18 - 0s - 12ms/step - loss: 95.0107 - val_loss: 119.0988\n"
     ]
    },
    {
     "data": {
      "text/plain": [
       "<keras.src.callbacks.history.History at 0x241b83b6ad0>"
      ]
     },
     "execution_count": 88,
     "metadata": {},
     "output_type": "execute_result"
    }
   ],
   "source": [
    "model.fit(X_train, y_train, validation_data = (X_val, y_val), epochs=100, verbose=2)"
   ]
  },
  {
   "cell_type": "code",
   "execution_count": 89,
   "metadata": {},
   "outputs": [
    {
     "name": "stdout",
     "output_type": "stream",
     "text": [
      "10/10 - 0s - 11ms/step - loss: 105.8367\n",
      "Test Loss (MSE): 105.8366928100586\n"
     ]
    }
   ],
   "source": [
    "test_loss = model.evaluate(X_test, y_test, verbose=2)\n",
    "\n",
    "print(f\"Test Loss (MSE): {test_loss}\")"
   ]
  },
  {
   "cell_type": "code",
   "execution_count": 90,
   "metadata": {},
   "outputs": [
    {
     "data": {
      "text/plain": [
       "Cement                0.008300\n",
       "Blast Furnace Slag   -0.016204\n",
       "Fly Ash               0.011703\n",
       "Water                 0.006248\n",
       "Superplasticizer      0.000237\n",
       "Coarse Aggregate      0.014261\n",
       "Fine Aggregate       -0.013141\n",
       "Age                   0.009636\n",
       "dtype: float64"
      ]
     },
     "execution_count": 90,
     "metadata": {},
     "output_type": "execute_result"
    }
   ],
   "source": [
    "X_train.mean()"
   ]
  },
  {
   "cell_type": "code",
   "execution_count": null,
   "metadata": {},
   "outputs": [],
   "source": []
  },
  {
   "cell_type": "code",
   "execution_count": null,
   "metadata": {},
   "outputs": [],
   "source": []
  },
  {
   "cell_type": "code",
   "execution_count": 107,
   "metadata": {},
   "outputs": [],
   "source": [
    "\n",
    "### Developing a 5 layer network with 50 nodes in each hidden layer\n",
    "\n",
    "def reg_model():\n",
    "    model = Sequential()\n",
    "    model.add(Input(shape = (n_cols,)))\n",
    "    model.add(Dense(50, activation = 'relu'))\n",
    "    model.add(Dense(50, activation = 'relu'))\n",
    "    model.add(Dense(50, activation = 'relu'))\n",
    "    model.add(Dense(50, activation = 'relu'))\n",
    "    model.add(Dense(50, activation = 'relu'))\n",
    "    model.add(Dense(1))\n",
    "\n",
    "    model.compile(optimizer= 'adam', loss = 'mean_squared_error')\n",
    "    return model\n",
    "\n"
   ]
  },
  {
   "cell_type": "code",
   "execution_count": 108,
   "metadata": {
    "scrolled": false
   },
   "outputs": [
    {
     "name": "stdout",
     "output_type": "stream",
     "text": [
      "Epoch 1/70\n",
      "18/18 - 3s - 168ms/step - loss: 1553.9705 - val_loss: 1494.6523\n",
      "Epoch 2/70\n",
      "18/18 - 0s - 13ms/step - loss: 1298.2616 - val_loss: 969.9628\n",
      "Epoch 3/70\n",
      "18/18 - 0s - 12ms/step - loss: 511.9559 - val_loss: 404.4744\n",
      "Epoch 4/70\n",
      "18/18 - 0s - 13ms/step - loss: 274.1971 - val_loss: 240.4105\n",
      "Epoch 5/70\n",
      "18/18 - 0s - 13ms/step - loss: 215.0773 - val_loss: 213.7638\n",
      "Epoch 6/70\n",
      "18/18 - 0s - 13ms/step - loss: 192.9913 - val_loss: 202.9961\n",
      "Epoch 7/70\n",
      "18/18 - 0s - 13ms/step - loss: 178.6821 - val_loss: 193.5481\n",
      "Epoch 8/70\n",
      "18/18 - 0s - 16ms/step - loss: 165.8596 - val_loss: 187.8308\n",
      "Epoch 9/70\n",
      "18/18 - 0s - 17ms/step - loss: 158.0285 - val_loss: 173.1501\n",
      "Epoch 10/70\n",
      "18/18 - 0s - 14ms/step - loss: 145.8719 - val_loss: 169.3946\n",
      "Epoch 11/70\n",
      "18/18 - 0s - 12ms/step - loss: 138.1277 - val_loss: 160.9310\n",
      "Epoch 12/70\n",
      "18/18 - 0s - 13ms/step - loss: 124.4787 - val_loss: 150.6331\n",
      "Epoch 13/70\n",
      "18/18 - 0s - 13ms/step - loss: 114.1429 - val_loss: 139.8368\n",
      "Epoch 14/70\n",
      "18/18 - 0s - 11ms/step - loss: 104.5070 - val_loss: 130.2415\n",
      "Epoch 15/70\n",
      "18/18 - 0s - 13ms/step - loss: 96.4656 - val_loss: 124.3758\n",
      "Epoch 16/70\n",
      "18/18 - 0s - 13ms/step - loss: 84.3736 - val_loss: 110.5018\n",
      "Epoch 17/70\n",
      "18/18 - 0s - 13ms/step - loss: 77.3639 - val_loss: 104.1110\n",
      "Epoch 18/70\n",
      "18/18 - 0s - 14ms/step - loss: 69.6398 - val_loss: 98.6260\n",
      "Epoch 19/70\n",
      "18/18 - 0s - 14ms/step - loss: 64.2434 - val_loss: 88.8329\n",
      "Epoch 20/70\n",
      "18/18 - 0s - 12ms/step - loss: 60.0995 - val_loss: 84.3367\n",
      "Epoch 21/70\n",
      "18/18 - 0s - 13ms/step - loss: 54.1364 - val_loss: 80.9764\n",
      "Epoch 22/70\n",
      "18/18 - 0s - 13ms/step - loss: 51.8722 - val_loss: 75.9239\n",
      "Epoch 23/70\n",
      "18/18 - 0s - 13ms/step - loss: 47.0057 - val_loss: 77.4104\n",
      "Epoch 24/70\n",
      "18/18 - 0s - 13ms/step - loss: 48.8847 - val_loss: 78.0272\n",
      "Epoch 25/70\n",
      "18/18 - 0s - 13ms/step - loss: 43.0368 - val_loss: 70.4442\n",
      "Epoch 26/70\n",
      "18/18 - 0s - 13ms/step - loss: 42.6521 - val_loss: 64.2599\n",
      "Epoch 27/70\n",
      "18/18 - 0s - 13ms/step - loss: 39.9959 - val_loss: 65.3348\n",
      "Epoch 28/70\n",
      "18/18 - 0s - 13ms/step - loss: 38.2253 - val_loss: 61.4631\n",
      "Epoch 29/70\n",
      "18/18 - 0s - 12ms/step - loss: 36.8484 - val_loss: 60.4120\n",
      "Epoch 30/70\n",
      "18/18 - 0s - 12ms/step - loss: 35.4520 - val_loss: 61.1246\n",
      "Epoch 31/70\n",
      "18/18 - 0s - 12ms/step - loss: 33.9591 - val_loss: 60.6110\n",
      "Epoch 32/70\n",
      "18/18 - 0s - 13ms/step - loss: 34.1143 - val_loss: 56.8078\n",
      "Epoch 33/70\n",
      "18/18 - 0s - 13ms/step - loss: 32.4987 - val_loss: 60.0908\n",
      "Epoch 34/70\n",
      "18/18 - 0s - 12ms/step - loss: 32.5124 - val_loss: 53.8927\n",
      "Epoch 35/70\n",
      "18/18 - 0s - 12ms/step - loss: 30.9007 - val_loss: 55.4435\n",
      "Epoch 36/70\n",
      "18/18 - 0s - 13ms/step - loss: 32.7937 - val_loss: 52.3385\n",
      "Epoch 37/70\n",
      "18/18 - 0s - 11ms/step - loss: 29.5159 - val_loss: 57.3601\n",
      "Epoch 38/70\n",
      "18/18 - 0s - 11ms/step - loss: 30.7841 - val_loss: 53.6235\n",
      "Epoch 39/70\n",
      "18/18 - 0s - 11ms/step - loss: 32.1048 - val_loss: 50.4279\n",
      "Epoch 40/70\n",
      "18/18 - 0s - 11ms/step - loss: 30.0664 - val_loss: 54.0812\n",
      "Epoch 41/70\n",
      "18/18 - 0s - 12ms/step - loss: 28.2766 - val_loss: 52.2802\n",
      "Epoch 42/70\n",
      "18/18 - 0s - 13ms/step - loss: 29.5095 - val_loss: 49.5337\n",
      "Epoch 43/70\n",
      "18/18 - 0s - 11ms/step - loss: 26.9656 - val_loss: 47.8580\n",
      "Epoch 44/70\n",
      "18/18 - 0s - 12ms/step - loss: 26.2181 - val_loss: 48.8057\n",
      "Epoch 45/70\n",
      "18/18 - 0s - 14ms/step - loss: 26.6756 - val_loss: 49.2981\n",
      "Epoch 46/70\n",
      "18/18 - 0s - 13ms/step - loss: 25.1043 - val_loss: 46.6749\n",
      "Epoch 47/70\n",
      "18/18 - 0s - 14ms/step - loss: 26.5402 - val_loss: 45.6860\n",
      "Epoch 48/70\n",
      "18/18 - 0s - 13ms/step - loss: 24.3730 - val_loss: 46.2146\n",
      "Epoch 49/70\n",
      "18/18 - 0s - 13ms/step - loss: 24.4464 - val_loss: 47.7308\n",
      "Epoch 50/70\n",
      "18/18 - 0s - 13ms/step - loss: 24.3911 - val_loss: 45.5721\n",
      "Epoch 51/70\n",
      "18/18 - 0s - 13ms/step - loss: 23.8643 - val_loss: 43.6867\n",
      "Epoch 52/70\n",
      "18/18 - 0s - 13ms/step - loss: 24.7212 - val_loss: 46.6984\n",
      "Epoch 53/70\n",
      "18/18 - 0s - 13ms/step - loss: 24.6215 - val_loss: 45.2344\n",
      "Epoch 54/70\n",
      "18/18 - 0s - 13ms/step - loss: 25.3028 - val_loss: 47.0072\n",
      "Epoch 55/70\n",
      "18/18 - 0s - 14ms/step - loss: 21.8910 - val_loss: 41.2975\n",
      "Epoch 56/70\n",
      "18/18 - 0s - 13ms/step - loss: 22.5006 - val_loss: 42.8601\n",
      "Epoch 57/70\n",
      "18/18 - 0s - 13ms/step - loss: 22.1004 - val_loss: 44.1142\n",
      "Epoch 58/70\n",
      "18/18 - 0s - 14ms/step - loss: 20.8804 - val_loss: 41.5064\n",
      "Epoch 59/70\n",
      "18/18 - 0s - 15ms/step - loss: 19.4450 - val_loss: 41.0019\n",
      "Epoch 60/70\n",
      "18/18 - 0s - 13ms/step - loss: 19.6518 - val_loss: 41.2383\n",
      "Epoch 61/70\n",
      "18/18 - 0s - 14ms/step - loss: 19.6398 - val_loss: 48.4469\n",
      "Epoch 62/70\n",
      "18/18 - 0s - 13ms/step - loss: 22.3834 - val_loss: 38.9441\n",
      "Epoch 63/70\n",
      "18/18 - 0s - 13ms/step - loss: 19.0342 - val_loss: 41.6017\n",
      "Epoch 64/70\n",
      "18/18 - 0s - 13ms/step - loss: 18.6616 - val_loss: 38.2889\n",
      "Epoch 65/70\n",
      "18/18 - 0s - 13ms/step - loss: 19.4161 - val_loss: 41.9286\n",
      "Epoch 66/70\n",
      "18/18 - 0s - 13ms/step - loss: 19.0371 - val_loss: 37.1086\n",
      "Epoch 67/70\n",
      "18/18 - 0s - 13ms/step - loss: 17.5696 - val_loss: 40.1651\n",
      "Epoch 68/70\n",
      "18/18 - 0s - 14ms/step - loss: 17.7160 - val_loss: 38.5644\n",
      "Epoch 69/70\n",
      "18/18 - 0s - 13ms/step - loss: 17.5813 - val_loss: 36.6920\n",
      "Epoch 70/70\n",
      "18/18 - 0s - 14ms/step - loss: 18.9358 - val_loss: 38.3196\n"
     ]
    },
    {
     "data": {
      "text/plain": [
       "<keras.src.callbacks.history.History at 0x241bf1d5b50>"
      ]
     },
     "execution_count": 108,
     "metadata": {},
     "output_type": "execute_result"
    }
   ],
   "source": [
    "\n",
    "model = reg_model()\n",
    "\n",
    "model.fit(X_train, y_train,  epochs = 70, validation_data = (X_val, y_val), verbose= 2)"
   ]
  },
  {
   "cell_type": "code",
   "execution_count": 112,
   "metadata": {},
   "outputs": [
    {
     "name": "stdout",
     "output_type": "stream",
     "text": [
      "18/18 - 0s - 7ms/step - loss: 16.1640\n",
      "Train Loss (MSE): 16.16401481628418\n"
     ]
    }
   ],
   "source": [
    "## On training data \n",
    "train_loss = model.evaluate(X_train, y_train, verbose=2)\n",
    "\n",
    "print(f\"Train Loss (MSE): {train_loss}\")"
   ]
  },
  {
   "cell_type": "code",
   "execution_count": 110,
   "metadata": {},
   "outputs": [
    {
     "name": "stdout",
     "output_type": "stream",
     "text": [
      "10/10 - 0s - 39ms/step - loss: 42.8469\n",
      "Test Loss (MSE): 42.846920013427734\n"
     ]
    }
   ],
   "source": [
    "test_loss = model.evaluate(X_test, y_test, verbose=2)\n",
    "\n",
    "print(f\"Test Loss (MSE): {test_loss}\")"
   ]
  },
  {
   "cell_type": "code",
   "execution_count": 114,
   "metadata": {},
   "outputs": [
    {
     "name": "stdout",
     "output_type": "stream",
     "text": [
      "(576, 8)\n",
      "(309, 8)\n",
      "(576,)\n",
      "(309,)\n"
     ]
    }
   ],
   "source": [
    "print(X_train.shape)\n",
    "print(X_test.shape)\n",
    "print(y_train.shape)\n",
    "print(y_test.shape)\n"
   ]
  },
  {
   "cell_type": "code",
   "execution_count": 121,
   "metadata": {},
   "outputs": [
    {
     "name": "stdout",
     "output_type": "stream",
     "text": [
      "[[-0.0089171  -0.22884755  0.11022199 -0.81701182 -0.36030313  0.6604747\n",
      "   0.45958964 -0.68247138]\n",
      " [-0.14079756  0.52228693  0.6780087  -0.46588226 -0.17071175 -0.68316824\n",
      "   0.9911349   0.90726789]\n",
      " [-0.15642022 -0.28398306  0.90154867 -0.20179677 -0.04814134  0.27511358\n",
      "  -0.46390098  0.97237378]\n",
      " [-0.29048665  0.95625696 -0.35924229  0.89446685 -0.95335604  0.50844716\n",
      "   0.01918683 -0.65932801]\n",
      " [-0.01916932  0.10789008 -0.3361053   0.04126553  0.20704575  0.42765103\n",
      "   0.08689653 -0.17766041]\n",
      " [-0.56526014 -0.21673904  0.9256888   0.33295119  0.72571868  0.9422541\n",
      "  -0.09437202 -0.74084936]\n",
      " [ 0.0023322   0.92338577  0.46228383  0.71616365 -0.00163412 -0.04363412\n",
      "   0.90065183 -0.80468663]\n",
      " [-0.44725405 -0.8897387  -0.07155872  0.77423948  0.64407104  0.26119188\n",
      "  -0.85041613  0.85330676]\n",
      " [ 0.26801402 -0.13952812  0.02672863 -0.90567728  0.36106811  0.37306503\n",
      "  -0.2986475   0.90301636]\n",
      " [ 0.0299281   0.99539147  0.61436061 -0.10500046  0.52972249 -0.15955123\n",
      "   0.53864152 -0.34474985]]\n",
      "\n",
      "\n",
      "\u001b[1m1/1\u001b[0m \u001b[32m━━━━━━━━━━━━━━━━━━━━\u001b[0m\u001b[37m\u001b[0m \u001b[1m0s\u001b[0m 76ms/step\n"
     ]
    },
    {
     "data": {
      "text/plain": [
       "array([[17.80837 ],\n",
       "       [59.86253 ],\n",
       "       [51.541992],\n",
       "       [26.070818],\n",
       "       [44.073936],\n",
       "       [14.256024],\n",
       "       [33.939285],\n",
       "       [30.402847],\n",
       "       [58.755474],\n",
       "       [56.568436]], dtype=float32)"
      ]
     },
     "execution_count": 121,
     "metadata": {},
     "output_type": "execute_result"
    }
   ],
   "source": [
    "X_new = np.random.uniform(-1, 1, (10, 8))\n",
    "\n",
    "print(X_new[:10])\n",
    "\n",
    "print()\n",
    "print()\n",
    "model.predict(X_new)\n",
    "\n"
   ]
  },
  {
   "cell_type": "code",
   "execution_count": null,
   "metadata": {},
   "outputs": [],
   "source": []
  }
 ],
 "metadata": {
  "kernelspec": {
   "display_name": "Python 3 (ipykernel)",
   "language": "python",
   "name": "python3"
  },
  "language_info": {
   "codemirror_mode": {
    "name": "ipython",
    "version": 3
   },
   "file_extension": ".py",
   "mimetype": "text/x-python",
   "name": "python",
   "nbconvert_exporter": "python",
   "pygments_lexer": "ipython3",
   "version": "3.11.5"
  },
  "prev_pub_hash": "7798ec66287dc6e3a0a8d4fcb1fcbe001f8ce637f2f460e6aa188f14bb0f7d79"
 },
 "nbformat": 4,
 "nbformat_minor": 4
}
